{
 "cells": [
  {
   "cell_type": "code",
   "execution_count": 1,
   "id": "designed-rolling",
   "metadata": {
    "ExecuteTime": {
     "end_time": "2021-06-22T19:53:44.313470Z",
     "start_time": "2021-06-22T19:53:43.991686Z"
    }
   },
   "outputs": [],
   "source": [
    "import pandas as pd\n",
    "from pandas import json_normalize\n",
    "from OTXv2 import OTXv2, IndicatorTypes\n",
    "from datetime import datetime, timedelta\n",
    "import requests, json"
   ]
  },
  {
   "cell_type": "code",
   "execution_count": 2,
   "id": "annoying-humor",
   "metadata": {
    "ExecuteTime": {
     "end_time": "2021-06-22T19:53:51.366147Z",
     "start_time": "2021-06-22T19:53:51.360198Z"
    }
   },
   "outputs": [],
   "source": [
    "def all_indicators_df(pulses_df):\n",
    "    indicators=pd.DataFrame()\n",
    "    \n",
    "    for i, r in pulses_df.iterrows():\n",
    "        ind = json_normalize( otx.get_pulse_indicators(r['id'], limit=10000))\n",
    "        \n",
    "        if len(indicators)>0:\n",
    "            indicators = pd.concat([indicators,ind])\n",
    "        else:\n",
    "            indicators = ind\n",
    "            \n",
    "    return indicators"
   ]
  },
  {
   "cell_type": "code",
   "execution_count": 3,
   "id": "conditional-disney",
   "metadata": {
    "ExecuteTime": {
     "end_time": "2021-06-22T19:56:34.584922Z",
     "start_time": "2021-06-22T19:56:34.575531Z"
    }
   },
   "outputs": [],
   "source": [
    "def indicators_by_type(pulses_df, unique = False):\n",
    "    \n",
    "    ind_types = []\n",
    "    ind_counts ={}\n",
    "    ind_ids = {}\n",
    "    for i, r in pulses_df.iterrows():\n",
    "        indicators = json_normalize( otx.get_pulse_indicators(r['id'], limit=10000))\n",
    "        for j, ind in indicators.iterrows():\n",
    "            #display (ind)\n",
    "            if ind['type'] in ind_types:\n",
    "                if not unique:\n",
    "                    ind_counts [ind['type']] = ind_counts [ind['type']] +1\n",
    "                else: \n",
    "                    ind_ids[ind['type']].add(ind['id'])\n",
    "            else:\n",
    "                ind_types.append(ind['type'])\n",
    "                \n",
    "                if not unique:\n",
    "                    ind_counts [ind['type']] = 1\n",
    "                else: ind_ids[ind['type']] = set([ind['id']])\n",
    "    if not unique:\n",
    "        return ind_counts\n",
    "    else:\n",
    "        for k,v in ind_ids.items():\n",
    "            ind_counts[k]=len(v)\n",
    "        return ind_counts"
   ]
  },
  {
   "cell_type": "code",
   "execution_count": 4,
   "id": "constitutional-conflict",
   "metadata": {
    "ExecuteTime": {
     "end_time": "2021-06-22T19:56:43.106440Z",
     "start_time": "2021-06-22T19:56:43.101268Z"
    }
   },
   "outputs": [],
   "source": [
    "def filter_indicators_by_type(pulses_df, filter_type):\n",
    "\n",
    "    filtered_ind = []\n",
    "    for i, r in pulses_df.iterrows():\n",
    "        indicators = json_normalize(\n",
    "             otx.get_pulse_indicators(r['id'], limit=10000))\n",
    "        for j, ind in indicators.iterrows():\n",
    "            # display (ind)\n",
    "            if ind['type'] == filter_type:\n",
    "                filtered_ind.append(ind)\n",
    "\n",
    "\n",
    "    return  filtered_ind"
   ]
  },
  {
   "cell_type": "code",
   "execution_count": 5,
   "id": "banned-stations",
   "metadata": {
    "ExecuteTime": {
     "end_time": "2021-06-22T19:56:51.441057Z",
     "start_time": "2021-06-22T19:56:51.433308Z"
    }
   },
   "outputs": [],
   "source": [
    "def indicators_for_cve(CVE, unique=False):\n",
    "    cve_pulse_df = json_normalize(otx.search_pulses(CVE)[\"results\"])\n",
    "    return indicators_by_type(cve_pulse_df, unique = unique)"
   ]
  },
  {
   "cell_type": "code",
   "execution_count": 6,
   "id": "technical-compatibility",
   "metadata": {
    "ExecuteTime": {
     "end_time": "2021-06-22T19:56:59.929962Z",
     "start_time": "2021-06-22T19:56:59.924564Z"
    }
   },
   "outputs": [],
   "source": [
    "def get_cve_summary(CVE):\n",
    "    try:\n",
    "        CVE_response = requests.get('https://cve.circl.lu/api/cve/'+CVE)\n",
    "        CVE_summary = json.loads(CVE_response.text)['summary']\n",
    "        return CVE_summary\n",
    "    except:\n",
    "        return ''"
   ]
  },
  {
   "cell_type": "code",
   "execution_count": 7,
   "id": "accepting-elimination",
   "metadata": {
    "ExecuteTime": {
     "end_time": "2021-06-22T19:57:12.775582Z",
     "start_time": "2021-06-22T19:57:12.770487Z"
    }
   },
   "outputs": [],
   "source": [
    "def get_ip_locations (ips):\n",
    "    if len(ips)>100:\n",
    "        return get_ip_locations (ips[:100])+get_ip_locations (ips[100:])\n",
    "    \n",
    "    loc_request = requests.post('http://ip-api.com/batch', data='['+','.join(['\"'+ip+'\"' for ip in ips])+']')\n",
    "    return loc_request.json()"
   ]
  },
  {
   "cell_type": "code",
   "execution_count": 45,
   "id": "statutory-ireland",
   "metadata": {
    "ExecuteTime": {
     "end_time": "2021-06-22T22:22:54.366385Z",
     "start_time": "2021-06-22T22:22:45.031134Z"
    }
   },
   "outputs": [
    {
     "name": "stdout",
     "output_type": "stream",
     "text": [
      "INPUT YOUR OTX KEY HERE\n"
     ]
    }
   ],
   "source": [
    "from OTXv2 import OTXv2\n",
    "from OTXv2 import IndicatorTypes\n",
    "api_key = input()\n",
    "otx = OTXv2(api_key)"
   ]
  },
  {
   "cell_type": "code",
   "execution_count": 10,
   "id": "recovered-employer",
   "metadata": {
    "ExecuteTime": {
     "end_time": "2021-06-22T19:59:33.913048Z",
     "start_time": "2021-06-22T19:58:59.914310Z"
    }
   },
   "outputs": [
    {
     "data": {
      "text/plain": [
       "660"
      ]
     },
     "metadata": {},
     "output_type": "display_data"
    },
    {
     "data": {
      "text/plain": [
       "Index(['id', 'name', 'description', 'author_name', 'modified', 'created',\n",
       "       'revision', 'tlp', 'public', 'adversary', 'indicators', 'tags',\n",
       "       'targeted_countries', 'malware_families', 'attack_ids', 'references',\n",
       "       'industries', 'extract_source', 'more_indicators'],\n",
       "      dtype='object')"
      ]
     },
     "execution_count": 10,
     "metadata": {},
     "output_type": "execute_result"
    }
   ],
   "source": [
    "data_90days = json_normalize(otx.getsince((datetime.now() - timedelta(days=90)).isoformat(), limit=10000))\n",
    "display(len(data_90days))\n",
    "data_90days.columns"
   ]
  },
  {
   "cell_type": "code",
   "execution_count": 16,
   "id": "dangerous-interview",
   "metadata": {
    "ExecuteTime": {
     "end_time": "2021-06-22T20:06:34.241562Z",
     "start_time": "2021-06-22T20:06:34.234771Z"
    }
   },
   "outputs": [],
   "source": [
    "data_90days['modified_date']=pd.to_datetime(data_90days['modified']).dt.date"
   ]
  },
  {
   "cell_type": "code",
   "execution_count": 11,
   "id": "conventional-arkansas",
   "metadata": {
    "ExecuteTime": {
     "end_time": "2021-06-22T20:03:06.409760Z",
     "start_time": "2021-06-22T19:59:34.089667Z"
    }
   },
   "outputs": [
    {
     "data": {
      "text/plain": [
       "46584"
      ]
     },
     "execution_count": 11,
     "metadata": {},
     "output_type": "execute_result"
    }
   ],
   "source": [
    "indicators = all_indicators_df(data_90days)\n",
    "len(indicators)"
   ]
  },
  {
   "cell_type": "code",
   "execution_count": 18,
   "id": "distributed-spencer",
   "metadata": {
    "ExecuteTime": {
     "end_time": "2021-06-22T20:07:24.024554Z",
     "start_time": "2021-06-22T20:07:23.980811Z"
    }
   },
   "outputs": [],
   "source": [
    "indicators['created_date']=pd.to_datetime(indicators['created']).dt.date"
   ]
  },
  {
   "cell_type": "code",
   "execution_count": 21,
   "id": "straight-concord",
   "metadata": {
    "ExecuteTime": {
     "end_time": "2021-06-22T20:11:27.820706Z",
     "start_time": "2021-06-22T20:11:27.804603Z"
    }
   },
   "outputs": [],
   "source": [
    "CVE_indicators= indicators.query('type==\"CVE\"').groupby(['indicator', 'created_date'])['created'].count().reset_index()\n",
    "CVE_indicators.columns = ['CVE', 'date', 'count']\n",
    "CVE_indicators.to_json('./CVE_js/CVE_90.json')"
   ]
  },
  {
   "cell_type": "code",
   "execution_count": 43,
   "id": "bottom-glossary",
   "metadata": {
    "ExecuteTime": {
     "end_time": "2021-06-22T21:31:12.510721Z",
     "start_time": "2021-06-22T21:31:12.498788Z"
    }
   },
   "outputs": [
    {
     "data": {
      "text/plain": [
       "236"
      ]
     },
     "execution_count": 43,
     "metadata": {},
     "output_type": "execute_result"
    }
   ],
   "source": [
    "IPs = (indicators.query('type==\"IPv4\"')[['indicator','created_date']])\n",
    "len(IPs)"
   ]
  },
  {
   "cell_type": "code",
   "execution_count": 34,
   "id": "approximate-rainbow",
   "metadata": {
    "ExecuteTime": {
     "end_time": "2021-06-22T20:27:40.015286Z",
     "start_time": "2021-06-22T20:27:39.928538Z"
    }
   },
   "outputs": [
    {
     "data": {
      "text/plain": [
       "236"
      ]
     },
     "execution_count": 34,
     "metadata": {},
     "output_type": "execute_result"
    }
   ],
   "source": [
    "IP_locations = get_ip_locations(list(IPs['indicator']))\n",
    "len(IP_locations)"
   ]
  },
  {
   "cell_type": "code",
   "execution_count": 44,
   "id": "interracial-rubber",
   "metadata": {
    "ExecuteTime": {
     "end_time": "2021-06-22T21:31:24.020022Z",
     "start_time": "2021-06-22T21:31:23.998942Z"
    }
   },
   "outputs": [],
   "source": [
    "IPs = IPs.merge(pd.DataFrame(IP_locations)[['query', 'country']], how='left', left_on = 'indicator', right_on='query')\n",
    "IPs = IPs.groupby([ 'created_date', 'country'])['indicator'].count().reset_index()\n",
    "IPs.columns = ['date', 'country', 'count']\n",
    "IPs.to_json('./CVE_js/IP_90.json')"
   ]
  },
  {
   "cell_type": "code",
   "execution_count": 39,
   "id": "funny-arabic",
   "metadata": {
    "ExecuteTime": {
     "end_time": "2021-06-22T20:30:50.378440Z",
     "start_time": "2021-06-22T20:30:50.350424Z"
    }
   },
   "outputs": [],
   "source": [
    "indicator_types = indicators.groupby(['type', 'created_date'])['created'].count().reset_index()\n",
    "indicator_types.columns = ['type', 'date', 'count']\n",
    "indicator_types.to_json('./CVE_js/Types_90.json')"
   ]
  },
  {
   "cell_type": "code",
   "execution_count": 40,
   "id": "intellectual-adelaide",
   "metadata": {
    "ExecuteTime": {
     "end_time": "2021-06-22T20:32:26.476655Z",
     "start_time": "2021-06-22T20:32:26.457031Z"
    }
   },
   "outputs": [],
   "source": [
    "indicator_counts= indicators.groupby(['created_date'])['created'].count().reset_index()\n",
    "indicator_counts.columns = [ 'date', 'count']\n",
    "indicator_counts.to_json('./CVE_js/Counts_90.json')"
   ]
  },
  {
   "cell_type": "code",
   "execution_count": 41,
   "id": "russian-nothing",
   "metadata": {
    "ExecuteTime": {
     "end_time": "2021-06-22T20:32:32.724690Z",
     "start_time": "2021-06-22T20:32:32.711691Z"
    }
   },
   "outputs": [
    {
     "data": {
      "text/html": [
       "<div>\n",
       "<style scoped>\n",
       "    .dataframe tbody tr th:only-of-type {\n",
       "        vertical-align: middle;\n",
       "    }\n",
       "\n",
       "    .dataframe tbody tr th {\n",
       "        vertical-align: top;\n",
       "    }\n",
       "\n",
       "    .dataframe thead th {\n",
       "        text-align: right;\n",
       "    }\n",
       "</style>\n",
       "<table border=\"1\" class=\"dataframe\">\n",
       "  <thead>\n",
       "    <tr style=\"text-align: right;\">\n",
       "      <th></th>\n",
       "      <th>date</th>\n",
       "      <th>count</th>\n",
       "    </tr>\n",
       "  </thead>\n",
       "  <tbody>\n",
       "    <tr>\n",
       "      <th>0</th>\n",
       "      <td>2020-06-18</td>\n",
       "      <td>32</td>\n",
       "    </tr>\n",
       "    <tr>\n",
       "      <th>1</th>\n",
       "      <td>2020-06-23</td>\n",
       "      <td>86</td>\n",
       "    </tr>\n",
       "    <tr>\n",
       "      <th>2</th>\n",
       "      <td>2020-06-24</td>\n",
       "      <td>277</td>\n",
       "    </tr>\n",
       "    <tr>\n",
       "      <th>3</th>\n",
       "      <td>2020-07-29</td>\n",
       "      <td>567</td>\n",
       "    </tr>\n",
       "    <tr>\n",
       "      <th>4</th>\n",
       "      <td>2020-08-31</td>\n",
       "      <td>35</td>\n",
       "    </tr>\n",
       "    <tr>\n",
       "      <th>...</th>\n",
       "      <td>...</td>\n",
       "      <td>...</td>\n",
       "    </tr>\n",
       "    <tr>\n",
       "      <th>119</th>\n",
       "      <td>2021-06-18</td>\n",
       "      <td>262</td>\n",
       "    </tr>\n",
       "    <tr>\n",
       "      <th>120</th>\n",
       "      <td>2021-06-19</td>\n",
       "      <td>61</td>\n",
       "    </tr>\n",
       "    <tr>\n",
       "      <th>121</th>\n",
       "      <td>2021-06-20</td>\n",
       "      <td>66</td>\n",
       "    </tr>\n",
       "    <tr>\n",
       "      <th>122</th>\n",
       "      <td>2021-06-21</td>\n",
       "      <td>165</td>\n",
       "    </tr>\n",
       "    <tr>\n",
       "      <th>123</th>\n",
       "      <td>2021-06-22</td>\n",
       "      <td>244</td>\n",
       "    </tr>\n",
       "  </tbody>\n",
       "</table>\n",
       "<p>124 rows × 2 columns</p>\n",
       "</div>"
      ],
      "text/plain": [
       "           date  count\n",
       "0    2020-06-18     32\n",
       "1    2020-06-23     86\n",
       "2    2020-06-24    277\n",
       "3    2020-07-29    567\n",
       "4    2020-08-31     35\n",
       "..          ...    ...\n",
       "119  2021-06-18    262\n",
       "120  2021-06-19     61\n",
       "121  2021-06-20     66\n",
       "122  2021-06-21    165\n",
       "123  2021-06-22    244\n",
       "\n",
       "[124 rows x 2 columns]"
      ]
     },
     "execution_count": 41,
     "metadata": {},
     "output_type": "execute_result"
    }
   ],
   "source": [
    "indicator_counts"
   ]
  },
  {
   "cell_type": "code",
   "execution_count": null,
   "id": "piano-finish",
   "metadata": {},
   "outputs": [],
   "source": []
  }
 ],
 "metadata": {
  "kernelspec": {
   "display_name": "Python 3",
   "language": "python",
   "name": "python3"
  },
  "language_info": {
   "codemirror_mode": {
    "name": "ipython",
    "version": 3
   },
   "file_extension": ".py",
   "mimetype": "text/x-python",
   "name": "python",
   "nbconvert_exporter": "python",
   "pygments_lexer": "ipython3",
   "version": "3.7.4"
  },
  "toc": {
   "base_numbering": 1,
   "nav_menu": {},
   "number_sections": true,
   "sideBar": true,
   "skip_h1_title": false,
   "title_cell": "Table of Contents",
   "title_sidebar": "Contents",
   "toc_cell": false,
   "toc_position": {},
   "toc_section_display": true,
   "toc_window_display": false
  },
  "varInspector": {
   "cols": {
    "lenName": 16,
    "lenType": 16,
    "lenVar": 40
   },
   "kernels_config": {
    "python": {
     "delete_cmd_postfix": "",
     "delete_cmd_prefix": "del ",
     "library": "var_list.py",
     "varRefreshCmd": "print(var_dic_list())"
    },
    "r": {
     "delete_cmd_postfix": ") ",
     "delete_cmd_prefix": "rm(",
     "library": "var_list.r",
     "varRefreshCmd": "cat(var_dic_list()) "
    }
   },
   "types_to_exclude": [
    "module",
    "function",
    "builtin_function_or_method",
    "instance",
    "_Feature"
   ],
   "window_display": false
  }
 },
 "nbformat": 4,
 "nbformat_minor": 5
}
